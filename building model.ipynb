{
 "cells": [
  {
   "cell_type": "code",
   "execution_count": null,
   "id": "26a40d45",
   "metadata": {},
   "outputs": [],
   "source": [
    "import tensorflow as tf\n",
    "import pandas as pd\n",
    "import scipy\n",
    "import seaborn as sns\n",
    "import os\n",
    "from tqdm import tqdm\n",
    "from matplotlib import pyplot \n",
    "from sklearn.model_selection import train_test_split\n",
    "import numpy as np \n",
    "from tensorflow.keras.models import Sequential\n",
    "from tensorflow.keras.layers import Dense, Dropout, Flatten, Conv2D, MaxPooling2D,AveragePooling2D\n",
    "from tensorflow.keras.callbacks import LearningRateScheduler,ReduceLROnPlateau\n",
    "from tensorflow.keras.layers import BatchNormalization\n",
    "from tensorflow.keras.optimizers import Adam \n",
    "from tensorflow.keras.preprocessing.image import ImageDataGenerator\n",
    "from tensorflow.keras.utils import plot_model\n",
    "from tensorflow.keras.preprocessing.image import ImageDataGenerator\n",
    "from tensorflow.keras.applications import EfficientNetB1, MobileNet,MobileNetV2,NASNetMobile\n",
    "from tensorflow.keras.preprocessing.image import ImageDataGenerator\n",
    "from tensorflow.keras.callbacks import ReduceLROnPlateau, EarlyStopping, ModelCheckpoint, LearningRateScheduler, TensorBoard, CSVLogger \n",
    "from sklearn.metrics import accuracy_score, confusion_matrix, classification_report"
   ]
  },
  {
   "cell_type": "code",
   "execution_count": 2,
   "id": "3acc1d69",
   "metadata": {},
   "outputs": [],
   "source": [
    "def create_model(base_model, model_name):\n",
    "   model = tf.keras.Sequential([base_model,\n",
    "                                 tf.keras.layers.GlobalAveragePooling2D(),\n",
    "                                 tf.keras.layers.Dropout(0.2),\n",
    "                                 tf.keras.layers.Dense(2, activation=\"softmax\")                                     \n",
    "                                ])\n",
    "   print(model_name + \" Network Architecture:\")\n",
    "   model.compile(loss='categorical_crossentropy', optimizer='adam', metrics=['accuracy'])\n",
    "   return model\n"
   ]
  },
  {
   "cell_type": "code",
   "execution_count": 3,
   "id": "65940ed8-8dc3-4394-8764-aaeef7cf78cb",
   "metadata": {},
   "outputs": [
    {
     "name": "stdout",
     "output_type": "stream",
     "text": [
      "Downloading data from https://storage.googleapis.com/tensorflow/keras-applications/nasnet/NASNet-mobile-no-top.h5\n",
      "19996672/19993432 [==============================] - 8s 0us/step\n",
      "Downloading data from https://storage.googleapis.com/keras-applications/efficientnetb1_notop.h5\n",
      "27025408/27018416 [==============================] - 8s 0us/step\n",
      "Downloading data from https://storage.googleapis.com/tensorflow/keras-applications/mobilenet_v2/mobilenet_v2_weights_tf_dim_ordering_tf_kernels_1.0_224_no_top.h5\n",
      "9412608/9406464 [==============================] - 4s 0us/step\n"
     ]
    }
   ],
   "source": [
    "# Input shape definition\n",
    "InputShape = (224,224,3) \n",
    "\n",
    "# NASNetMobile base model\n",
    "NasNetBase = NASNetMobile(include_top=False,\n",
    "                          weights=\"imagenet\",\n",
    "                          input_shape=InputShape)\n",
    "NasNetBase.trainable = True  # Allow fine-tuning\n",
    "\n",
    "# EfficientNetB1 base model\n",
    "EfficientNetBase = EfficientNetB1(include_top=False,\n",
    "                                  weights=\"imagenet\",\n",
    "                                  input_shape=InputShape)\n",
    "EfficientNetBase.trainable = True  # Allow fine-tuning\n",
    "\n",
    "# MobileNetV2 base model\n",
    "MobileNetV2Base = MobileNetV2(include_top=False,\n",
    "                              weights=\"imagenet\",\n",
    "                              alpha=1.0,\n",
    "                              input_shape=InputShape)\n",
    "MobileNetV2Base.trainable = True  # Allow fine-tuning\n",
    "\n"
   ]
  },
  {
   "cell_type": "code",
   "execution_count": 5,
   "id": "5acb2329-0d1b-46e7-935d-0e95f7718522",
   "metadata": {},
   "outputs": [
    {
     "name": "stdout",
     "output_type": "stream",
     "text": [
      "NasNetModel Network Architecture:\n",
      "EfficientNet Network Architecture:\n",
      "MobileNetV2 Network Architecture:\n"
     ]
    }
   ],
   "source": [
    "NasNet = create_model(NasNetBase,'NasNetModel')\n",
    "EfficientNet = create_model(EfficientNetBase, 'EfficientNet')\n",
    "MobileNetV2 = create_model(MobileNetV2Base, 'MobileNetV2')\n",
    "\n",
    "Models = [NasNet,EfficientNet, MobileNetV2]\n"
   ]
  },
  {
   "cell_type": "code",
   "execution_count": 11,
   "id": "393a7445-6f1f-4774-833b-71de9fdfba11",
   "metadata": {},
   "outputs": [],
   "source": [
    "brain_df = pd.read_csv('brain_mri_data.csv')"
   ]
  },
  {
   "cell_type": "code",
   "execution_count": 13,
   "id": "f01115ad-a977-4bb6-9a46-79d1f2d1deaf",
   "metadata": {},
   "outputs": [
    {
     "data": {
      "text/html": [
       "<div>\n",
       "<style scoped>\n",
       "    .dataframe tbody tr th:only-of-type {\n",
       "        vertical-align: middle;\n",
       "    }\n",
       "\n",
       "    .dataframe tbody tr th {\n",
       "        vertical-align: top;\n",
       "    }\n",
       "\n",
       "    .dataframe thead th {\n",
       "        text-align: right;\n",
       "    }\n",
       "</style>\n",
       "<table border=\"1\" class=\"dataframe\">\n",
       "  <thead>\n",
       "    <tr style=\"text-align: right;\">\n",
       "      <th></th>\n",
       "      <th>patient_id</th>\n",
       "      <th>image_path</th>\n",
       "      <th>mask_path</th>\n",
       "      <th>diagnosis</th>\n",
       "    </tr>\n",
       "  </thead>\n",
       "  <tbody>\n",
       "    <tr>\n",
       "      <th>0</th>\n",
       "      <td>TCGA_CS_4941_19960909</td>\n",
       "      <td>C:/Users/aisha/machine learning/lgg-mri-segmen...</td>\n",
       "      <td>C:/Users/aisha/machine learning/lgg-mri-segmen...</td>\n",
       "      <td>0</td>\n",
       "    </tr>\n",
       "    <tr>\n",
       "      <th>1</th>\n",
       "      <td>TCGA_CS_4941_19960909</td>\n",
       "      <td>C:/Users/aisha/machine learning/lgg-mri-segmen...</td>\n",
       "      <td>C:/Users/aisha/machine learning/lgg-mri-segmen...</td>\n",
       "      <td>0</td>\n",
       "    </tr>\n",
       "    <tr>\n",
       "      <th>2</th>\n",
       "      <td>TCGA_CS_4941_19960909</td>\n",
       "      <td>C:/Users/aisha/machine learning/lgg-mri-segmen...</td>\n",
       "      <td>C:/Users/aisha/machine learning/lgg-mri-segmen...</td>\n",
       "      <td>0</td>\n",
       "    </tr>\n",
       "    <tr>\n",
       "      <th>3</th>\n",
       "      <td>TCGA_CS_4941_19960909</td>\n",
       "      <td>C:/Users/aisha/machine learning/lgg-mri-segmen...</td>\n",
       "      <td>C:/Users/aisha/machine learning/lgg-mri-segmen...</td>\n",
       "      <td>0</td>\n",
       "    </tr>\n",
       "    <tr>\n",
       "      <th>4</th>\n",
       "      <td>TCGA_CS_4941_19960909</td>\n",
       "      <td>C:/Users/aisha/machine learning/lgg-mri-segmen...</td>\n",
       "      <td>C:/Users/aisha/machine learning/lgg-mri-segmen...</td>\n",
       "      <td>0</td>\n",
       "    </tr>\n",
       "    <tr>\n",
       "      <th>...</th>\n",
       "      <td>...</td>\n",
       "      <td>...</td>\n",
       "      <td>...</td>\n",
       "      <td>...</td>\n",
       "    </tr>\n",
       "    <tr>\n",
       "      <th>3924</th>\n",
       "      <td>TCGA_HT_A61B_19991127</td>\n",
       "      <td>C:/Users/aisha/machine learning/lgg-mri-segmen...</td>\n",
       "      <td>C:/Users/aisha/machine learning/lgg-mri-segmen...</td>\n",
       "      <td>0</td>\n",
       "    </tr>\n",
       "    <tr>\n",
       "      <th>3925</th>\n",
       "      <td>TCGA_HT_A61B_19991127</td>\n",
       "      <td>C:/Users/aisha/machine learning/lgg-mri-segmen...</td>\n",
       "      <td>C:/Users/aisha/machine learning/lgg-mri-segmen...</td>\n",
       "      <td>0</td>\n",
       "    </tr>\n",
       "    <tr>\n",
       "      <th>3926</th>\n",
       "      <td>TCGA_HT_A61B_19991127</td>\n",
       "      <td>C:/Users/aisha/machine learning/lgg-mri-segmen...</td>\n",
       "      <td>C:/Users/aisha/machine learning/lgg-mri-segmen...</td>\n",
       "      <td>0</td>\n",
       "    </tr>\n",
       "    <tr>\n",
       "      <th>3927</th>\n",
       "      <td>TCGA_HT_A61B_19991127</td>\n",
       "      <td>C:/Users/aisha/machine learning/lgg-mri-segmen...</td>\n",
       "      <td>C:/Users/aisha/machine learning/lgg-mri-segmen...</td>\n",
       "      <td>0</td>\n",
       "    </tr>\n",
       "    <tr>\n",
       "      <th>3928</th>\n",
       "      <td>TCGA_HT_A61B_19991127</td>\n",
       "      <td>C:/Users/aisha/machine learning/lgg-mri-segmen...</td>\n",
       "      <td>C:/Users/aisha/machine learning/lgg-mri-segmen...</td>\n",
       "      <td>0</td>\n",
       "    </tr>\n",
       "  </tbody>\n",
       "</table>\n",
       "<p>3929 rows × 4 columns</p>\n",
       "</div>"
      ],
      "text/plain": [
       "                 patient_id  \\\n",
       "0     TCGA_CS_4941_19960909   \n",
       "1     TCGA_CS_4941_19960909   \n",
       "2     TCGA_CS_4941_19960909   \n",
       "3     TCGA_CS_4941_19960909   \n",
       "4     TCGA_CS_4941_19960909   \n",
       "...                     ...   \n",
       "3924  TCGA_HT_A61B_19991127   \n",
       "3925  TCGA_HT_A61B_19991127   \n",
       "3926  TCGA_HT_A61B_19991127   \n",
       "3927  TCGA_HT_A61B_19991127   \n",
       "3928  TCGA_HT_A61B_19991127   \n",
       "\n",
       "                                             image_path  \\\n",
       "0     C:/Users/aisha/machine learning/lgg-mri-segmen...   \n",
       "1     C:/Users/aisha/machine learning/lgg-mri-segmen...   \n",
       "2     C:/Users/aisha/machine learning/lgg-mri-segmen...   \n",
       "3     C:/Users/aisha/machine learning/lgg-mri-segmen...   \n",
       "4     C:/Users/aisha/machine learning/lgg-mri-segmen...   \n",
       "...                                                 ...   \n",
       "3924  C:/Users/aisha/machine learning/lgg-mri-segmen...   \n",
       "3925  C:/Users/aisha/machine learning/lgg-mri-segmen...   \n",
       "3926  C:/Users/aisha/machine learning/lgg-mri-segmen...   \n",
       "3927  C:/Users/aisha/machine learning/lgg-mri-segmen...   \n",
       "3928  C:/Users/aisha/machine learning/lgg-mri-segmen...   \n",
       "\n",
       "                                              mask_path  diagnosis  \n",
       "0     C:/Users/aisha/machine learning/lgg-mri-segmen...          0  \n",
       "1     C:/Users/aisha/machine learning/lgg-mri-segmen...          0  \n",
       "2     C:/Users/aisha/machine learning/lgg-mri-segmen...          0  \n",
       "3     C:/Users/aisha/machine learning/lgg-mri-segmen...          0  \n",
       "4     C:/Users/aisha/machine learning/lgg-mri-segmen...          0  \n",
       "...                                                 ...        ...  \n",
       "3924  C:/Users/aisha/machine learning/lgg-mri-segmen...          0  \n",
       "3925  C:/Users/aisha/machine learning/lgg-mri-segmen...          0  \n",
       "3926  C:/Users/aisha/machine learning/lgg-mri-segmen...          0  \n",
       "3927  C:/Users/aisha/machine learning/lgg-mri-segmen...          0  \n",
       "3928  C:/Users/aisha/machine learning/lgg-mri-segmen...          0  \n",
       "\n",
       "[3929 rows x 4 columns]"
      ]
     },
     "execution_count": 13,
     "metadata": {},
     "output_type": "execute_result"
    }
   ],
   "source": [
    "brain_df"
   ]
  },
  {
   "cell_type": "code",
   "execution_count": 15,
   "id": "b4333cec-0286-44f8-9e00-99c45c388abe",
   "metadata": {},
   "outputs": [
    {
     "name": "stdout",
     "output_type": "stream",
     "text": [
      "<class 'pandas.core.frame.DataFrame'>\n",
      "RangeIndex: 3929 entries, 0 to 3928\n",
      "Data columns (total 3 columns):\n",
      " #   Column      Non-Null Count  Dtype \n",
      "---  ------      --------------  ----- \n",
      " 0   image_path  3929 non-null   object\n",
      " 1   mask_path   3929 non-null   object\n",
      " 2   diagnosis   3929 non-null   object\n",
      "dtypes: object(3)\n",
      "memory usage: 92.2+ KB\n"
     ]
    }
   ],
   "source": [
    "brain_df_train = brain_df.drop(columns=['Unnamed:0', 'patient_id'], axis=1, errors='ignore')\n",
    "brain_df_train['diagnosis'] = brain_df['diagnosis'].astype(str)\n",
    "brain_df_train.info()"
   ]
  },
  {
   "cell_type": "code",
   "execution_count": 16,
   "id": "d7f12c86-b317-4c93-b920-5aa8b2d14a84",
   "metadata": {},
   "outputs": [
    {
     "name": "stdout",
     "output_type": "stream",
     "text": [
      "Found 3006 validated image filenames belonging to 2 classes.\n",
      "Found 333 validated image filenames belonging to 2 classes.\n",
      "Found 590 validated image filenames belonging to 2 classes.\n"
     ]
    }
   ],
   "source": [
    "train, test = train_test_split(brain_df_train, test_size=0.15)\n",
    "datagen = ImageDataGenerator(rescale=1./255., validation_split=0.1)\n",
    "\n",
    "# Training data generator\n",
    "train_generator = datagen.flow_from_dataframe(train,\n",
    "                                              directory='./',\n",
    "                                              x_col='image_path',\n",
    "                                              y_col='diagnosis',\n",
    "                                              subset='training',\n",
    "                                              class_mode='categorical',\n",
    "                                              batch_size=16,\n",
    "                                              shuffle=True,\n",
    "                                              target_size=(224, 224))\n",
    "\n",
    "# Validation data generator\n",
    "valid_generator = datagen.flow_from_dataframe(train,\n",
    "                                              directory='./',\n",
    "                                              x_col='image_path',\n",
    "                                              y_col='diagnosis',\n",
    "                                              subset='validation',\n",
    "                                              class_mode='categorical',\n",
    "                                              batch_size=16,\n",
    "                                              shuffle=True,\n",
    "                                              target_size=(224, 224))\n",
    "\n",
    "# Test data generator\n",
    "test_datagen = ImageDataGenerator(rescale=1./255.)\n",
    "test_generator = test_datagen.flow_from_dataframe(test,\n",
    "                                                  directory='./',\n",
    "                                                  x_col='image_path',\n",
    "                                                  y_col='diagnosis',\n",
    "                                                  class_mode='categorical',\n",
    "                                                  batch_size=16,\n",
    "                                                  shuffle=False,\n",
    "                                                  target_size=(224, 224))\n"
   ]
  },
  {
   "cell_type": "code",
   "execution_count": 31,
   "id": "3da49657-ccf4-4415-b1b2-d25a993ff0c8",
   "metadata": {},
   "outputs": [],
   "source": [
    "# Early stopping to avoid overfitting\n",
    "earlystopping = EarlyStopping(monitor='val_loss', \n",
    "                              mode='min', \n",
    "                              verbose=1, \n",
    "                              patience=15)\n",
    "\n",
    "# Saving the best model weights\n",
    "checkpointer = ModelCheckpoint(filepath=\"ensemble-weights_{epoch:02d}-{val_loss:.2f}.hdf5\",\n",
    "                               verbose=1, \n",
    "                               save_best_only=True)\n",
    "\n",
    "reduce_lr = ReduceLROnPlateau(monitor='val_loss',\n",
    "                               mode='min',\n",
    "                               verbose=1,\n",
    "                               patience=10, \n",
    "                               min_delta=0.0001,\n",
    "                               factor=0.2)\n",
    "\n",
    "# TensorBoard for visualization\n",
    "tensorboard = TensorBoard(log_dir='logs', \n",
    "                          histogram_freq=1,\n",
    "                          write_graph=True,\n",
    "                          write_images=True)\n",
    "\n",
    "callbacks = [checkpointer, earlystopping, reduce_lr, tensorboard, csv_logger]\n"
   ]
  },
  {
   "cell_type": "code",
   "execution_count": 32,
   "id": "5a377b8e-50dc-4d68-a9f5-10953a0ac7f3",
   "metadata": {},
   "outputs": [
    {
     "name": "stderr",
     "output_type": "stream",
     "text": [
      "Training Models:   0%|                                                                           | 0/3 [00:00<?, ?it/s]"
     ]
    },
    {
     "name": "stdout",
     "output_type": "stream",
     "text": [
      "Epoch 1/10\n",
      "187/187 [==============================] - ETA: 0s - loss: 0.0560 - accuracy: 0.9799\n",
      "Epoch 00001: val_loss improved from inf to 14.42306, saving model to ensemble-weights_01-14.42.hdf5\n",
      "187/187 [==============================] - 498s 3s/step - loss: 0.0560 - accuracy: 0.9799 - val_loss: 14.4231 - val_accuracy: 0.8313\n",
      "Epoch 2/10\n",
      "187/187 [==============================] - ETA: 0s - loss: 0.0311 - accuracy: 0.9903\n",
      "Epoch 00002: val_loss improved from 14.42306 to 8.22198, saving model to ensemble-weights_02-8.22.hdf5\n",
      "187/187 [==============================] - 576s 3s/step - loss: 0.0311 - accuracy: 0.9903 - val_loss: 8.2220 - val_accuracy: 0.8062\n",
      "Epoch 3/10\n",
      "187/187 [==============================] - ETA: 0s - loss: 0.0428 - accuracy: 0.9873\n",
      "Epoch 00003: val_loss improved from 8.22198 to 2.43436, saving model to ensemble-weights_03-2.43.hdf5\n",
      "187/187 [==============================] - 523s 3s/step - loss: 0.0428 - accuracy: 0.9873 - val_loss: 2.4344 - val_accuracy: 0.8813\n",
      "Epoch 4/10\n",
      "187/187 [==============================] - ETA: 0s - loss: 0.0379 - accuracy: 0.9890\n",
      "Epoch 00004: val_loss did not improve from 2.43436\n",
      "187/187 [==============================] - 632s 3s/step - loss: 0.0379 - accuracy: 0.9890 - val_loss: 79.5665 - val_accuracy: 0.6594\n",
      "Epoch 5/10\n",
      "187/187 [==============================] - ETA: 0s - loss: 0.0786 - accuracy: 0.9796\n",
      "Epoch 00005: val_loss did not improve from 2.43436\n",
      "187/187 [==============================] - 538s 3s/step - loss: 0.0786 - accuracy: 0.9796 - val_loss: 7.6996 - val_accuracy: 0.8938\n",
      "Epoch 6/10\n",
      "187/187 [==============================] - ETA: 0s - loss: 0.0331 - accuracy: 0.9920\n",
      "Epoch 00006: val_loss did not improve from 2.43436\n",
      "187/187 [==============================] - 589s 3s/step - loss: 0.0331 - accuracy: 0.9920 - val_loss: 10.5249 - val_accuracy: 0.7437\n",
      "Epoch 7/10\n",
      "187/187 [==============================] - ETA: 0s - loss: 0.0059 - accuracy: 0.9980\n",
      "Epoch 00007: val_loss did not improve from 2.43436\n",
      "187/187 [==============================] - 644s 3s/step - loss: 0.0059 - accuracy: 0.9980 - val_loss: 3.6782 - val_accuracy: 0.8906\n",
      "Epoch 8/10\n",
      "187/187 [==============================] - ETA: 0s - loss: 0.0148 - accuracy: 0.9957\n",
      "Epoch 00008: val_loss did not improve from 2.43436\n",
      "187/187 [==============================] - 620s 3s/step - loss: 0.0148 - accuracy: 0.9957 - val_loss: 12.8047 - val_accuracy: 0.6812\n",
      "Epoch 9/10\n",
      "187/187 [==============================] - ETA: 0s - loss: 0.0452 - accuracy: 0.9853\n",
      "Epoch 00009: val_loss did not improve from 2.43436\n",
      "187/187 [==============================] - 558s 3s/step - loss: 0.0452 - accuracy: 0.9853 - val_loss: 25.3474 - val_accuracy: 0.6125\n",
      "Epoch 10/10\n",
      "187/187 [==============================] - ETA: 0s - loss: 0.0437 - accuracy: 0.9876\n",
      "Epoch 00010: val_loss did not improve from 2.43436\n",
      "187/187 [==============================] - 646s 3s/step - loss: 0.0437 - accuracy: 0.9876 - val_loss: 8.1450 - val_accuracy: 0.8438\n"
     ]
    },
    {
     "name": "stderr",
     "output_type": "stream",
     "text": [
      "Training Models:  33%|████████████████████▎                                        | 1/3 [1:37:34<3:15:09, 5854.57s/it]"
     ]
    },
    {
     "name": "stdout",
     "output_type": "stream",
     "text": [
      "Epoch 1/10\n",
      "187/187 [==============================] - ETA: 0s - loss: 0.0080 - accuracy: 0.9970\n",
      "Epoch 00001: val_loss improved from 2.43436 to 0.55438, saving model to ensemble-weights_01-0.55.hdf5\n",
      "187/187 [==============================] - 1040s 6s/step - loss: 0.0080 - accuracy: 0.9970 - val_loss: 0.5544 - val_accuracy: 0.8562\n",
      "Epoch 2/10\n",
      "187/187 [==============================] - ETA: 0s - loss: 0.0112 - accuracy: 0.9960\n",
      "Epoch 00002: val_loss did not improve from 0.55438\n",
      "187/187 [==============================] - 1028s 5s/step - loss: 0.0112 - accuracy: 0.9960 - val_loss: 5.2652 - val_accuracy: 0.6594\n",
      "Epoch 3/10\n",
      "187/187 [==============================] - ETA: 0s - loss: 0.0063 - accuracy: 0.9980\n",
      "Epoch 00003: val_loss did not improve from 0.55438\n",
      "187/187 [==============================] - 1034s 6s/step - loss: 0.0063 - accuracy: 0.9980 - val_loss: 2.1513 - val_accuracy: 0.7375\n",
      "Epoch 4/10\n",
      "187/187 [==============================] - ETA: 0s - loss: 0.0125 - accuracy: 0.9963\n",
      "Epoch 00004: val_loss did not improve from 0.55438\n",
      "187/187 [==============================] - 988s 5s/step - loss: 0.0125 - accuracy: 0.9963 - val_loss: 3.4995 - val_accuracy: 0.6812\n",
      "Epoch 5/10\n",
      "187/187 [==============================] - ETA: 0s - loss: 0.0112 - accuracy: 0.9967\n",
      "Epoch 00005: val_loss did not improve from 0.55438\n",
      "187/187 [==============================] - 891s 5s/step - loss: 0.0112 - accuracy: 0.9967 - val_loss: 192.7499 - val_accuracy: 0.3313\n",
      "Epoch 6/10\n",
      "187/187 [==============================] - ETA: 0s - loss: 0.0209 - accuracy: 0.9926\n",
      "Epoch 00006: val_loss did not improve from 0.55438\n",
      "187/187 [==============================] - 969s 5s/step - loss: 0.0209 - accuracy: 0.9926 - val_loss: 130.2158 - val_accuracy: 0.3313\n",
      "Epoch 7/10\n",
      "187/187 [==============================] - ETA: 0s - loss: 0.0254 - accuracy: 0.9950 \n",
      "Epoch 00007: val_loss did not improve from 0.55438\n",
      "187/187 [==============================] - 3195s 17s/step - loss: 0.0254 - accuracy: 0.9950 - val_loss: 60.6963 - val_accuracy: 0.6719\n",
      "Epoch 8/10\n",
      "187/187 [==============================] - ETA: 0s - loss: 0.0212 - accuracy: 0.9923\n",
      "Epoch 00008: val_loss did not improve from 0.55438\n",
      "187/187 [==============================] - 973s 5s/step - loss: 0.0212 - accuracy: 0.9923 - val_loss: 0.7902 - val_accuracy: 0.3313\n",
      "Epoch 9/10\n",
      "187/187 [==============================] - ETA: 0s - loss: 0.0189 - accuracy: 0.9933\n",
      "Epoch 00009: val_loss did not improve from 0.55438\n",
      "187/187 [==============================] - 994s 5s/step - loss: 0.0189 - accuracy: 0.9933 - val_loss: 0.6266 - val_accuracy: 0.6687\n",
      "Epoch 10/10\n",
      "187/187 [==============================] - ETA: 0s - loss: 0.0276 - accuracy: 0.9923\n",
      "Epoch 00010: val_loss did not improve from 0.55438\n",
      "187/187 [==============================] - 987s 5s/step - loss: 0.0276 - accuracy: 0.9923 - val_loss: 0.7606 - val_accuracy: 0.6687\n"
     ]
    },
    {
     "name": "stderr",
     "output_type": "stream",
     "text": [
      "Training Models:  67%|████████████████████████████████████████▋                    | 2/3 [5:00:08<2:39:20, 9560.06s/it]"
     ]
    },
    {
     "name": "stdout",
     "output_type": "stream",
     "text": [
      "Epoch 1/10\n",
      "187/187 [==============================] - ETA: 0s - loss: 0.0271 - accuracy: 0.9910\n",
      "Epoch 00001: val_loss did not improve from 0.55438\n",
      "187/187 [==============================] - 471s 3s/step - loss: 0.0271 - accuracy: 0.9910 - val_loss: 0.9415 - val_accuracy: 0.8719\n",
      "Epoch 2/10\n",
      "187/187 [==============================] - ETA: 0s - loss: 0.0343 - accuracy: 0.9916\n",
      "Epoch 00002: val_loss did not improve from 0.55438\n",
      "187/187 [==============================] - 471s 3s/step - loss: 0.0343 - accuracy: 0.9916 - val_loss: 1.1494 - val_accuracy: 0.8250\n",
      "Epoch 3/10\n",
      "187/187 [==============================] - ETA: 0s - loss: 0.0272 - accuracy: 0.9913\n",
      "Epoch 00003: val_loss did not improve from 0.55438\n",
      "187/187 [==============================] - 473s 3s/step - loss: 0.0272 - accuracy: 0.9913 - val_loss: 0.8266 - val_accuracy: 0.8500\n",
      "Epoch 4/10\n",
      "187/187 [==============================] - ETA: 0s - loss: 0.0132 - accuracy: 0.9950\n",
      "Epoch 00004: val_loss did not improve from 0.55438\n",
      "187/187 [==============================] - 470s 3s/step - loss: 0.0132 - accuracy: 0.9950 - val_loss: 0.5768 - val_accuracy: 0.8625\n",
      "Epoch 5/10\n",
      "187/187 [==============================] - ETA: 0s - loss: 0.0046 - accuracy: 0.9980\n",
      "Epoch 00005: val_loss improved from 0.55438 to 0.41263, saving model to ensemble-weights_05-0.41.hdf5\n",
      "187/187 [==============================] - 465s 2s/step - loss: 0.0046 - accuracy: 0.9980 - val_loss: 0.4126 - val_accuracy: 0.9312\n",
      "Epoch 6/10\n",
      "187/187 [==============================] - ETA: 0s - loss: 0.0182 - accuracy: 0.9957\n",
      "Epoch 00006: val_loss did not improve from 0.41263\n",
      "187/187 [==============================] - 464s 2s/step - loss: 0.0182 - accuracy: 0.9957 - val_loss: 1.4994 - val_accuracy: 0.7531\n",
      "Epoch 7/10\n",
      "187/187 [==============================] - ETA: 0s - loss: 0.0272 - accuracy: 0.9933\n",
      "Epoch 00007: val_loss did not improve from 0.41263\n",
      "187/187 [==============================] - 446s 2s/step - loss: 0.0272 - accuracy: 0.9933 - val_loss: 1.6650 - val_accuracy: 0.8031\n",
      "Epoch 8/10\n",
      "187/187 [==============================] - ETA: 0s - loss: 0.0186 - accuracy: 0.9950\n",
      "Epoch 00008: val_loss did not improve from 0.41263\n",
      "187/187 [==============================] - 401s 2s/step - loss: 0.0186 - accuracy: 0.9950 - val_loss: 1.7147 - val_accuracy: 0.6375\n",
      "Epoch 9/10\n",
      "187/187 [==============================] - ETA: 0s - loss: 0.0292 - accuracy: 0.9913\n",
      "Epoch 00009: val_loss did not improve from 0.41263\n",
      "187/187 [==============================] - 381s 2s/step - loss: 0.0292 - accuracy: 0.9913 - val_loss: 2.1029 - val_accuracy: 0.6906\n",
      "Epoch 10/10\n",
      "187/187 [==============================] - ETA: 0s - loss: 0.0368 - accuracy: 0.9863\n",
      "Epoch 00010: val_loss did not improve from 0.41263\n",
      "187/187 [==============================] - 380s 2s/step - loss: 0.0368 - accuracy: 0.9863 - val_loss: 0.7364 - val_accuracy: 0.9219\n"
     ]
    },
    {
     "name": "stderr",
     "output_type": "stream",
     "text": [
      "Training Models: 100%|███████████████████████████████████████████████████████████████| 3/3 [6:14:16<00:00, 7485.53s/it]\n"
     ]
    }
   ],
   "source": [
    "num_epochs = 10\n",
    "\n",
    "TrainedModels = []  \n",
    "histories = []      \n",
    "\n",
    "for model in tqdm(Models, desc=\"Training Models\"):\n",
    "    try:\n",
    "        # Fit the model\n",
    "        history = model.fit(\n",
    "            train_generator,\n",
    "            steps_per_epoch=train_generator.n // train_generator.batch_size,\n",
    "            epochs=num_epochs,\n",
    "            validation_data=valid_generator,\n",
    "            validation_steps=valid_generator.n // valid_generator.batch_size,\n",
    "            callbacks=[checkpointer, earlystopping]\n",
    "        )\n",
    "        \n",
    "        TrainedModels.append(model)\n",
    "        histories.append(history.history)  \n",
    "        \n",
    "    except Exception as e:\n",
    "        print(f\"An error occurred while training {model.name}: {e}\")\n"
   ]
  },
  {
   "cell_type": "code",
   "execution_count": 33,
   "id": "9e8fddb1-e23d-43ce-8360-953961386107",
   "metadata": {},
   "outputs": [
    {
     "name": "stdout",
     "output_type": "stream",
     "text": [
      "[[1 0 1]\n",
      " [0 0 0]\n",
      " [0 0 1]\n",
      " ...\n",
      " [1 0 1]\n",
      " [1 0 1]\n",
      " [0 0 0]]\n"
     ]
    }
   ],
   "source": [
    "labels = []\n",
    "for m in TrainedModels:\n",
    "    predicts = np.argmax(m.predict(test_generator), axis=1)\n",
    "    labels.append(predicts)\n",
    "\n",
    "# Ensemble with voting\n",
    "labels = np.array(labels)\n",
    "labels = np.transpose(labels, (1, 0))\n",
    "print(labels)"
   ]
  },
  {
   "cell_type": "code",
   "execution_count": 34,
   "id": "e60943d2-7018-4b13-858e-e248e285d5cd",
   "metadata": {},
   "outputs": [
    {
     "name": "stdout",
     "output_type": "stream",
     "text": [
      "[1 0 0 0 0 0 0 0 1 0 0 1 0 0 0 1 0 0 0 1 0 1 1 1 0 0 1 0 0 0 0 0 1 1 0 0 0\n",
      " 0 0 0 0 0 1 1 1 1 0 1 0 1 1 1 0 0 1 0 0 1 1 0 1 0 0 1 1 0 0 1 0 0 0 0 0 0\n",
      " 0 1 0 0 0 0 1 1 1 0 0 0 0 1 0 1 0 1 0 0 0 0 0 0 0 1 1 0 1 0 0 1 0 0 0 0 1\n",
      " 1 0 0 1 0 0 0 0 0 0 0 1 0 0 0 1 0 0 0 0 0 1 0 0 1 1 0 0 0 1 1 1 0 1 1 1 1\n",
      " 0 1 0 0 1 0 1 0 1 0 1 0 0 0 0 1 0 1 0 0 1 1 1 1 1 1 1 0 0 0 1 1 0 0 0 0 0\n",
      " 0 0 0 1 0 0 0 0 0 0 0 0 0 0 0 1 0 1 1 0 0 1 0 0 1 0 0 0 0 1 0 1 0 1 0 1 1\n",
      " 1 0 1 1 0 0 1 1 1 0 0 0 1 0 0 0 1 0 0 1 0 0 1 1 0 0 1 0 0 0 0 0 0 1 0 0 0\n",
      " 1 1 1 1 0 0 0 0 1 0 0 1 0 1 0 0 1 0 0 1 0 1 0 0 0 1 0 0 0 0 1 0 0 0 0 1 1\n",
      " 0 1 0 1 0 0 1 1 0 0 1 0 0 0 0 0 0 0 1 0 0 1 0 0 0 1 0 0 0 1 1 0 1 0 1 1 0\n",
      " 0 0 0 0 0 1 0 0 0 1 0 1 0 0 0 1 0 1 0 0 1 0 0 0 1 0 0 0 1 0 0 0 0 0 1 0 0\n",
      " 0 0 0 1 0 0 0 1 0 1 0 1 0 0 1 0 0 1 1 1 0 0 0 0 0 0 0 1 0 0 0 1 1 0 1 1 1\n",
      " 1 0 1 0 0 1 1 0 0 1 1 0 0 0 0 1 0 0 0 1 0 0 1 0 1 0 0 1 1 0 0 0 0 0 1 0 1\n",
      " 0 0 0 0 1 1 0 1 0 0 0 0 0 0 1 0 1 0 0 0 0 0 0 0 0 1 0 0 0 1 0 1 0 0 0 1 0\n",
      " 1 0 1 0 0 1 1 0 0 0 0 0 1 1 1 0 0 0 0 1 1 0 0 0 1 0 0 0 1 1 0 1 1 1 1 0 0\n",
      " 1 0 0 0 1 0 1 1 0 0 0 0 0 1 1 0 0 1 0 0 0 0 1 0 1 1 0 0 0 0 0 1 0 0 0 0 0\n",
      " 0 0 1 0 0 0 0 1 0 0 1 1 0 0 0 0 1 0 1 1 1 1 0 1 1 0 0 0 1 0 1 1 1 1 0]\n"
     ]
    }
   ],
   "source": [
    "labls = scipy.stats.mode(labels,axis=1, keepdims=False)[0]\n",
    "labls = np.squeeze(labls)\n",
    "\n",
    "original = np.asarray(test['diagnosis']).astype('int')  \n",
    "print (labls)"
   ]
  },
  {
   "cell_type": "code",
   "execution_count": 35,
   "id": "f5722863-fa7b-44bf-8a15-49c96a1d3691",
   "metadata": {},
   "outputs": [
    {
     "name": "stdout",
     "output_type": "stream",
     "text": [
      "0.9440677966101695\n",
      "              precision    recall  f1-score   support\n",
      "\n",
      "           0       0.96      0.95      0.96       387\n",
      "           1       0.91      0.93      0.92       203\n",
      "\n",
      "    accuracy                           0.94       590\n",
      "   macro avg       0.94      0.94      0.94       590\n",
      "weighted avg       0.94      0.94      0.94       590\n",
      "\n"
     ]
    },
    {
     "data": {
      "image/png": "[encoded data removed]",
      "text/plain": [
       "<Figure size 500x500 with 2 Axes>"
      ]
     },
     "metadata": {},
     "output_type": "display_data"
    }
   ],
   "source": [
    "pred = labls\n",
    "accuracy = accuracy_score(original, pred)\n",
    "print(accuracy)\n",
    "\n",
    "cm = confusion_matrix(original, pred)\n",
    "\n",
    "report = classification_report(original, pred, labels = [0,1])\n",
    "print(report)\n",
    "pyplot.figure(figsize = (5,5))\n",
    "sns.heatmap(cm, annot=True);"
   ]
  },
  {
   "cell_type": "code",
   "execution_count": 39,
   "id": "7de0cb52-88d8-49ad-84a2-62a1b88d6e99",
   "metadata": {},
   "outputs": [
    {
     "name": "stdout",
     "output_type": "stream",
     "text": [
      "INFO:tensorflow:Assets written to: firstModel\\assets\n",
      "INFO:tensorflow:Assets written to: secondModel\\assets\n",
      "INFO:tensorflow:Assets written to: thirdModel\\assets\n"
     ]
    }
   ],
   "source": [
    "TrainedModels[0].save('firstModel')\n",
    "TrainedModels[1].save('secondModel')\n",
    "TrainedModels[2].save('thirdModel')"
   ]
  },
  {
   "cell_type": "code",
   "execution_count": null,
   "id": "472c0c95-866e-4973-a331-984895ce087c",
   "metadata": {},
   "outputs": [],
   "source": []
  }
 ],
 "metadata": {
  "kernelspec": {
   "display_name": "Python 3 (ipykernel)",
   "language": "python",
   "name": "python3"
  },
  "language_info": {
   "codemirror_mode": {
    "name": "ipython",
    "version": 3
   },
   "file_extension": ".py",
   "mimetype": "text/x-python",
   "name": "python",
   "nbconvert_exporter": "python",
   "pygments_lexer": "ipython3",
   "version": "3.8.19"
  }
 },
 "nbformat": 4,
 "nbformat_minor": 5
}
